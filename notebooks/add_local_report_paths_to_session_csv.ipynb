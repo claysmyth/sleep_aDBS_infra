{
 "cells": [
  {
   "cell_type": "code",
   "execution_count": 7,
   "metadata": {},
   "outputs": [],
   "source": [
    "import polars as pl\n",
    "import glob"
   ]
  },
  {
   "cell_type": "code",
   "execution_count": 2,
   "metadata": {},
   "outputs": [],
   "source": [
    "report_csv_path = \"/media/longterm_hdd/Clay/Sleep_aDBS/Sleep_aDBS_reported_sessions.csv\""
   ]
  },
  {
   "cell_type": "code",
   "execution_count": 3,
   "metadata": {},
   "outputs": [],
   "source": [
    "report_df = pl.read_csv(report_csv_path)"
   ]
  },
  {
   "cell_type": "code",
   "execution_count": 4,
   "metadata": {},
   "outputs": [
    {
     "data": {
      "text/html": [
       "<div><style>\n",
       ".dataframe > thead > tr,\n",
       ".dataframe > tbody > tr {\n",
       "  text-align: right;\n",
       "  white-space: pre-wrap;\n",
       "}\n",
       "</style>\n",
       "<small>shape: (5, 15)</small><table border=\"1\" class=\"dataframe\"><thead><tr><th></th><th>RCS#</th><th>Side</th><th>Session#</th><th>SessionType(s)</th><th>TimeStarted</th><th>TimeEnded</th><th>Notes</th><th>Dropbox_Link</th><th>Data_Server_Hyperlink</th><th>Data_Server_FilePath</th><th>Device</th><th>output_dir</th><th>parquet_path</th><th>csv_path</th></tr><tr><td>i64</td><td>str</td><td>str</td><td>str</td><td>str</td><td>str</td><td>str</td><td>str</td><td>str</td><td>str</td><td>str</td><td>str</td><td>str</td><td>str</td><td>str</td></tr></thead><tbody><tr><td>0</td><td>&quot;RCS03&quot;</td><td>&quot;Left&quot;</td><td>&quot;Session1725255980504&quot;</td><td>&quot;baseline&quot;</td><td>&quot;09-01-2024 22:46:20&quot;</td><td>&quot;09-02-2024 08:18:37&quot;</td><td>null</td><td>&quot;https://www.dropbox.com/home/R…</td><td>&quot;=HYPERLINK(&quot;/media/dropbox_hdd…</td><td>&quot;&#x27;/media/dropbox_hdd/Starr Lab …</td><td>&quot;RCS03L&quot;</td><td>&quot;/media/longterm_hdd/Clay/Sleep…</td><td>&quot;/media/longterm_hdd/Clay/Sleep…</td><td>&quot;/media/longterm_hdd/Clay/Sleep…</td></tr><tr><td>1</td><td>&quot;RCS03&quot;</td><td>&quot;Left&quot;</td><td>&quot;Session1725598798225&quot;</td><td>&quot;baseline&quot;</td><td>&quot;09-05-2024 21:59:58&quot;</td><td>&quot;09-06-2024 07:29:31&quot;</td><td>null</td><td>&quot;https://www.dropbox.com/home/R…</td><td>&quot;=HYPERLINK(&quot;/media/dropbox_hdd…</td><td>&quot;&#x27;/media/dropbox_hdd/Starr Lab …</td><td>&quot;RCS03L&quot;</td><td>&quot;/media/longterm_hdd/Clay/Sleep…</td><td>&quot;/media/longterm_hdd/Clay/Sleep…</td><td>&quot;/media/longterm_hdd/Clay/Sleep…</td></tr><tr><td>2</td><td>&quot;RCS03&quot;</td><td>&quot;Left&quot;</td><td>&quot;Session1725773287653&quot;</td><td>&quot;baseline&quot;</td><td>&quot;09-07-2024 22:28:07&quot;</td><td>&quot;09-08-2024 04:27:22&quot;</td><td>null</td><td>&quot;https://www.dropbox.com/home/R…</td><td>&quot;=HYPERLINK(&quot;/media/dropbox_hdd…</td><td>&quot;&#x27;/media/dropbox_hdd/Starr Lab …</td><td>&quot;RCS03L&quot;</td><td>&quot;/media/longterm_hdd/Clay/Sleep…</td><td>&quot;/media/longterm_hdd/Clay/Sleep…</td><td>&quot;/media/longterm_hdd/Clay/Sleep…</td></tr><tr><td>3</td><td>&quot;RCS03&quot;</td><td>&quot;Left&quot;</td><td>&quot;Session1725168553698&quot;</td><td>&quot;baseline&quot;</td><td>&quot;08-31-2024 22:29:13&quot;</td><td>&quot;09-01-2024 09:08:22&quot;</td><td>null</td><td>&quot;https://www.dropbox.com/home/R…</td><td>&quot;=HYPERLINK(&quot;/media/dropbox_hdd…</td><td>&quot;&#x27;/media/dropbox_hdd/Starr Lab …</td><td>&quot;RCS03L&quot;</td><td>&quot;/media/longterm_hdd/Clay/Sleep…</td><td>&quot;/media/longterm_hdd/Clay/Sleep…</td><td>&quot;/media/longterm_hdd/Clay/Sleep…</td></tr><tr><td>4</td><td>&quot;RCS03&quot;</td><td>&quot;Left&quot;</td><td>&quot;Session1725426262519&quot;</td><td>&quot;baseline&quot;</td><td>&quot;09-03-2024 22:04:22&quot;</td><td>&quot;09-04-2024 08:23:11&quot;</td><td>null</td><td>&quot;https://www.dropbox.com/home/R…</td><td>&quot;=HYPERLINK(&quot;/media/dropbox_hdd…</td><td>&quot;&#x27;/media/dropbox_hdd/Starr Lab …</td><td>&quot;RCS03L&quot;</td><td>&quot;/media/longterm_hdd/Clay/Sleep…</td><td>&quot;/media/longterm_hdd/Clay/Sleep…</td><td>&quot;/media/longterm_hdd/Clay/Sleep…</td></tr></tbody></table></div>"
      ],
      "text/plain": [
       "shape: (5, 15)\n",
       "┌─────┬───────┬──────┬────────────────┬───┬────────┬───────────────┬───────────────┬───────────────┐\n",
       "│     ┆ RCS#  ┆ Side ┆ Session#       ┆ … ┆ Device ┆ output_dir    ┆ parquet_path  ┆ csv_path      │\n",
       "│ --- ┆ ---   ┆ ---  ┆ ---            ┆   ┆ ---    ┆ ---           ┆ ---           ┆ ---           │\n",
       "│ i64 ┆ str   ┆ str  ┆ str            ┆   ┆ str    ┆ str           ┆ str           ┆ str           │\n",
       "╞═════╪═══════╪══════╪════════════════╪═══╪════════╪═══════════════╪═══════════════╪═══════════════╡\n",
       "│ 0   ┆ RCS03 ┆ Left ┆ Session1725255 ┆ … ┆ RCS03L ┆ /media/longte ┆ /media/longte ┆ /media/longte │\n",
       "│     ┆       ┆      ┆ 980504         ┆   ┆        ┆ rm_hdd/Clay/S ┆ rm_hdd/Clay/S ┆ rm_hdd/Clay/S │\n",
       "│     ┆       ┆      ┆                ┆   ┆        ┆ leep…         ┆ leep…         ┆ leep…         │\n",
       "│ 1   ┆ RCS03 ┆ Left ┆ Session1725598 ┆ … ┆ RCS03L ┆ /media/longte ┆ /media/longte ┆ /media/longte │\n",
       "│     ┆       ┆      ┆ 798225         ┆   ┆        ┆ rm_hdd/Clay/S ┆ rm_hdd/Clay/S ┆ rm_hdd/Clay/S │\n",
       "│     ┆       ┆      ┆                ┆   ┆        ┆ leep…         ┆ leep…         ┆ leep…         │\n",
       "│ 2   ┆ RCS03 ┆ Left ┆ Session1725773 ┆ … ┆ RCS03L ┆ /media/longte ┆ /media/longte ┆ /media/longte │\n",
       "│     ┆       ┆      ┆ 287653         ┆   ┆        ┆ rm_hdd/Clay/S ┆ rm_hdd/Clay/S ┆ rm_hdd/Clay/S │\n",
       "│     ┆       ┆      ┆                ┆   ┆        ┆ leep…         ┆ leep…         ┆ leep…         │\n",
       "│ 3   ┆ RCS03 ┆ Left ┆ Session1725168 ┆ … ┆ RCS03L ┆ /media/longte ┆ /media/longte ┆ /media/longte │\n",
       "│     ┆       ┆      ┆ 553698         ┆   ┆        ┆ rm_hdd/Clay/S ┆ rm_hdd/Clay/S ┆ rm_hdd/Clay/S │\n",
       "│     ┆       ┆      ┆                ┆   ┆        ┆ leep…         ┆ leep…         ┆ leep…         │\n",
       "│ 4   ┆ RCS03 ┆ Left ┆ Session1725426 ┆ … ┆ RCS03L ┆ /media/longte ┆ /media/longte ┆ /media/longte │\n",
       "│     ┆       ┆      ┆ 262519         ┆   ┆        ┆ rm_hdd/Clay/S ┆ rm_hdd/Clay/S ┆ rm_hdd/Clay/S │\n",
       "│     ┆       ┆      ┆                ┆   ┆        ┆ leep…         ┆ leep…         ┆ leep…         │\n",
       "└─────┴───────┴──────┴────────────────┴───┴────────┴───────────────┴───────────────┴───────────────┘"
      ]
     },
     "execution_count": 4,
     "metadata": {},
     "output_type": "execute_result"
    }
   ],
   "source": [
    "report_df.head()"
   ]
  },
  {
   "cell_type": "code",
   "execution_count": 15,
   "metadata": {},
   "outputs": [],
   "source": [
    "report_df = report_df.with_columns(\n",
    "    pl.col(\"output_dir\").str.replace(\"/Sleep_aDBS/\", \"/Sleep_aDBS/data/\"),\n",
    "    pl.col(\"parquet_path\").str.replace(\"/Sleep_aDBS/\", \"/Sleep_aDBS/data/\"),\n",
    "    pl.col(\"csv_path\").str.replace(\"/Sleep_aDBS/\", \"/Sleep_aDBS/data/\")\n",
    ")"
   ]
  },
  {
   "cell_type": "code",
   "execution_count": 16,
   "metadata": {},
   "outputs": [
    {
     "data": {
      "text/html": [
       "<div><style>\n",
       ".dataframe > thead > tr,\n",
       ".dataframe > tbody > tr {\n",
       "  text-align: right;\n",
       "  white-space: pre-wrap;\n",
       "}\n",
       "</style>\n",
       "<small>shape: (5, 15)</small><table border=\"1\" class=\"dataframe\"><thead><tr><th></th><th>RCS#</th><th>Side</th><th>Session#</th><th>SessionType(s)</th><th>TimeStarted</th><th>TimeEnded</th><th>Notes</th><th>Dropbox_Link</th><th>Data_Server_Hyperlink</th><th>Data_Server_FilePath</th><th>Device</th><th>output_dir</th><th>parquet_path</th><th>csv_path</th></tr><tr><td>i64</td><td>str</td><td>str</td><td>str</td><td>str</td><td>str</td><td>str</td><td>str</td><td>str</td><td>str</td><td>str</td><td>str</td><td>str</td><td>str</td><td>str</td></tr></thead><tbody><tr><td>0</td><td>&quot;RCS03&quot;</td><td>&quot;Left&quot;</td><td>&quot;Session1725255980504&quot;</td><td>&quot;baseline&quot;</td><td>&quot;09-01-2024 22:46:20&quot;</td><td>&quot;09-02-2024 08:18:37&quot;</td><td>null</td><td>&quot;https://www.dropbox.com/home/R…</td><td>&quot;=HYPERLINK(&quot;/media/dropbox_hdd…</td><td>&quot;&#x27;/media/dropbox_hdd/Starr Lab …</td><td>&quot;RCS03L&quot;</td><td>&quot;/media/longterm_hdd/Clay/Sleep…</td><td>&quot;/media/longterm_hdd/Clay/Sleep…</td><td>&quot;/media/longterm_hdd/Clay/Sleep…</td></tr><tr><td>1</td><td>&quot;RCS03&quot;</td><td>&quot;Left&quot;</td><td>&quot;Session1725598798225&quot;</td><td>&quot;baseline&quot;</td><td>&quot;09-05-2024 21:59:58&quot;</td><td>&quot;09-06-2024 07:29:31&quot;</td><td>null</td><td>&quot;https://www.dropbox.com/home/R…</td><td>&quot;=HYPERLINK(&quot;/media/dropbox_hdd…</td><td>&quot;&#x27;/media/dropbox_hdd/Starr Lab …</td><td>&quot;RCS03L&quot;</td><td>&quot;/media/longterm_hdd/Clay/Sleep…</td><td>&quot;/media/longterm_hdd/Clay/Sleep…</td><td>&quot;/media/longterm_hdd/Clay/Sleep…</td></tr><tr><td>2</td><td>&quot;RCS03&quot;</td><td>&quot;Left&quot;</td><td>&quot;Session1725773287653&quot;</td><td>&quot;baseline&quot;</td><td>&quot;09-07-2024 22:28:07&quot;</td><td>&quot;09-08-2024 04:27:22&quot;</td><td>null</td><td>&quot;https://www.dropbox.com/home/R…</td><td>&quot;=HYPERLINK(&quot;/media/dropbox_hdd…</td><td>&quot;&#x27;/media/dropbox_hdd/Starr Lab …</td><td>&quot;RCS03L&quot;</td><td>&quot;/media/longterm_hdd/Clay/Sleep…</td><td>&quot;/media/longterm_hdd/Clay/Sleep…</td><td>&quot;/media/longterm_hdd/Clay/Sleep…</td></tr><tr><td>3</td><td>&quot;RCS03&quot;</td><td>&quot;Left&quot;</td><td>&quot;Session1725168553698&quot;</td><td>&quot;baseline&quot;</td><td>&quot;08-31-2024 22:29:13&quot;</td><td>&quot;09-01-2024 09:08:22&quot;</td><td>null</td><td>&quot;https://www.dropbox.com/home/R…</td><td>&quot;=HYPERLINK(&quot;/media/dropbox_hdd…</td><td>&quot;&#x27;/media/dropbox_hdd/Starr Lab …</td><td>&quot;RCS03L&quot;</td><td>&quot;/media/longterm_hdd/Clay/Sleep…</td><td>&quot;/media/longterm_hdd/Clay/Sleep…</td><td>&quot;/media/longterm_hdd/Clay/Sleep…</td></tr><tr><td>4</td><td>&quot;RCS03&quot;</td><td>&quot;Left&quot;</td><td>&quot;Session1725426262519&quot;</td><td>&quot;baseline&quot;</td><td>&quot;09-03-2024 22:04:22&quot;</td><td>&quot;09-04-2024 08:23:11&quot;</td><td>null</td><td>&quot;https://www.dropbox.com/home/R…</td><td>&quot;=HYPERLINK(&quot;/media/dropbox_hdd…</td><td>&quot;&#x27;/media/dropbox_hdd/Starr Lab …</td><td>&quot;RCS03L&quot;</td><td>&quot;/media/longterm_hdd/Clay/Sleep…</td><td>&quot;/media/longterm_hdd/Clay/Sleep…</td><td>&quot;/media/longterm_hdd/Clay/Sleep…</td></tr></tbody></table></div>"
      ],
      "text/plain": [
       "shape: (5, 15)\n",
       "┌─────┬───────┬──────┬────────────────┬───┬────────┬───────────────┬───────────────┬───────────────┐\n",
       "│     ┆ RCS#  ┆ Side ┆ Session#       ┆ … ┆ Device ┆ output_dir    ┆ parquet_path  ┆ csv_path      │\n",
       "│ --- ┆ ---   ┆ ---  ┆ ---            ┆   ┆ ---    ┆ ---           ┆ ---           ┆ ---           │\n",
       "│ i64 ┆ str   ┆ str  ┆ str            ┆   ┆ str    ┆ str           ┆ str           ┆ str           │\n",
       "╞═════╪═══════╪══════╪════════════════╪═══╪════════╪═══════════════╪═══════════════╪═══════════════╡\n",
       "│ 0   ┆ RCS03 ┆ Left ┆ Session1725255 ┆ … ┆ RCS03L ┆ /media/longte ┆ /media/longte ┆ /media/longte │\n",
       "│     ┆       ┆      ┆ 980504         ┆   ┆        ┆ rm_hdd/Clay/S ┆ rm_hdd/Clay/S ┆ rm_hdd/Clay/S │\n",
       "│     ┆       ┆      ┆                ┆   ┆        ┆ leep…         ┆ leep…         ┆ leep…         │\n",
       "│ 1   ┆ RCS03 ┆ Left ┆ Session1725598 ┆ … ┆ RCS03L ┆ /media/longte ┆ /media/longte ┆ /media/longte │\n",
       "│     ┆       ┆      ┆ 798225         ┆   ┆        ┆ rm_hdd/Clay/S ┆ rm_hdd/Clay/S ┆ rm_hdd/Clay/S │\n",
       "│     ┆       ┆      ┆                ┆   ┆        ┆ leep…         ┆ leep…         ┆ leep…         │\n",
       "│ 2   ┆ RCS03 ┆ Left ┆ Session1725773 ┆ … ┆ RCS03L ┆ /media/longte ┆ /media/longte ┆ /media/longte │\n",
       "│     ┆       ┆      ┆ 287653         ┆   ┆        ┆ rm_hdd/Clay/S ┆ rm_hdd/Clay/S ┆ rm_hdd/Clay/S │\n",
       "│     ┆       ┆      ┆                ┆   ┆        ┆ leep…         ┆ leep…         ┆ leep…         │\n",
       "│ 3   ┆ RCS03 ┆ Left ┆ Session1725168 ┆ … ┆ RCS03L ┆ /media/longte ┆ /media/longte ┆ /media/longte │\n",
       "│     ┆       ┆      ┆ 553698         ┆   ┆        ┆ rm_hdd/Clay/S ┆ rm_hdd/Clay/S ┆ rm_hdd/Clay/S │\n",
       "│     ┆       ┆      ┆                ┆   ┆        ┆ leep…         ┆ leep…         ┆ leep…         │\n",
       "│ 4   ┆ RCS03 ┆ Left ┆ Session1725426 ┆ … ┆ RCS03L ┆ /media/longte ┆ /media/longte ┆ /media/longte │\n",
       "│     ┆       ┆      ┆ 262519         ┆   ┆        ┆ rm_hdd/Clay/S ┆ rm_hdd/Clay/S ┆ rm_hdd/Clay/S │\n",
       "│     ┆       ┆      ┆                ┆   ┆        ┆ leep…         ┆ leep…         ┆ leep…         │\n",
       "└─────┴───────┴──────┴────────────────┴───┴────────┴───────────────┴───────────────┴───────────────┘"
      ]
     },
     "execution_count": 16,
     "metadata": {},
     "output_type": "execute_result"
    }
   ],
   "source": [
    "report_df.head()"
   ]
  },
  {
   "cell_type": "code",
   "execution_count": 20,
   "metadata": {},
   "outputs": [
    {
     "name": "stdout",
     "output_type": "stream",
     "text": [
      "Multiple session reports found for session Session1725255980504 in /media/longterm_hdd/Clay/Sleep_aDBS/data/baseline/RCS03L\n",
      "['/media/longterm_hdd/Clay/Sleep_aDBS/data/baseline/RCS03L/session_reports/Session1725255980504_Session1725168553698', '/media/longterm_hdd/Clay/Sleep_aDBS/data/baseline/RCS03L/session_reports/Session1725255980504', '/media/longterm_hdd/Clay/Sleep_aDBS/data/baseline/RCS03L/session_reports/Session1725168553698_Session1725255980504']\n",
      "Multiple session reports found for session Session1725168553698 in /media/longterm_hdd/Clay/Sleep_aDBS/data/baseline/RCS03L\n",
      "['/media/longterm_hdd/Clay/Sleep_aDBS/data/baseline/RCS03L/session_reports/Session1725168553698', '/media/longterm_hdd/Clay/Sleep_aDBS/data/baseline/RCS03L/session_reports/Session1725255980504_Session1725168553698', '/media/longterm_hdd/Clay/Sleep_aDBS/data/baseline/RCS03L/session_reports/Session1725168553698_Session1725255980504']\n",
      "Multiple session reports found for session Session1727267302916 in /media/longterm_hdd/Clay/Sleep_aDBS/data/baseline/RCS16L\n",
      "['/media/longterm_hdd/Clay/Sleep_aDBS/data/baseline/RCS16L/session_reports/Session1727267302916_Session1727247843803', '/media/longterm_hdd/Clay/Sleep_aDBS/data/baseline/RCS16L/session_reports/Session1727247843803_Session1727267302916']\n",
      "Multiple session reports found for session Session1727247843803 in /media/longterm_hdd/Clay/Sleep_aDBS/data/baseline/RCS16L\n",
      "['/media/longterm_hdd/Clay/Sleep_aDBS/data/baseline/RCS16L/session_reports/Session1727267302916_Session1727247843803', '/media/longterm_hdd/Clay/Sleep_aDBS/data/baseline/RCS16L/session_reports/Session1727247843803_Session1727267302916']\n",
      "No session reports found for session Session1733985687200 in /media/longterm_hdd/Clay/Sleep_aDBS/data/data/baseline/RCS14L\n"
     ]
    }
   ],
   "source": [
    "session_report_paths = []\n",
    "session_nums = report_df.get_column(\"Session#\").to_list()\n",
    "out_dirs = report_df.get_column(\"output_dir\").to_list()\n",
    "for i, out_dir in enumerate(out_dirs):\n",
    "    # print(out_dir)\n",
    "    reported_sessions = glob.glob(f\"{out_dir}/session_reports/*\")\n",
    "    # print(reported_sessions)\n",
    "    putative_session_reports = [r for r in reported_sessions if session_nums[i] in r]\n",
    "    if len(putative_session_reports) == 1:\n",
    "        # print(f\"Found session report: {putative_session_reports[0]}\")\n",
    "        session_report_paths.append(putative_session_reports[0])\n",
    "    elif len(putative_session_reports) > 1:\n",
    "        print(f\"Multiple session reports found for session {session_nums[i]} in {out_dir}\")\n",
    "        print(putative_session_reports)\n",
    "        session_report_paths.append(None)\n",
    "    else:\n",
    "        print(f\"No session reports found for session {session_nums[i]} in {out_dir}\")\n",
    "        session_report_paths.append(None)\n"
   ]
  },
  {
   "cell_type": "code",
   "execution_count": 21,
   "metadata": {},
   "outputs": [],
   "source": [
    "report_df_with_paths = report_df.with_columns(\n",
    "    pl.Series(name=\"session_report_path\", values=session_report_paths)\n",
    ")"
   ]
  },
  {
   "cell_type": "code",
   "execution_count": 22,
   "metadata": {},
   "outputs": [
    {
     "data": {
      "text/html": [
       "<div><style>\n",
       ".dataframe > thead > tr,\n",
       ".dataframe > tbody > tr {\n",
       "  text-align: right;\n",
       "  white-space: pre-wrap;\n",
       "}\n",
       "</style>\n",
       "<small>shape: (149, 16)</small><table border=\"1\" class=\"dataframe\"><thead><tr><th></th><th>RCS#</th><th>Side</th><th>Session#</th><th>SessionType(s)</th><th>TimeStarted</th><th>TimeEnded</th><th>Notes</th><th>Dropbox_Link</th><th>Data_Server_Hyperlink</th><th>Data_Server_FilePath</th><th>Device</th><th>output_dir</th><th>parquet_path</th><th>csv_path</th><th>session_report_path</th></tr><tr><td>i64</td><td>str</td><td>str</td><td>str</td><td>str</td><td>str</td><td>str</td><td>str</td><td>str</td><td>str</td><td>str</td><td>str</td><td>str</td><td>str</td><td>str</td><td>str</td></tr></thead><tbody><tr><td>0</td><td>&quot;RCS03&quot;</td><td>&quot;Left&quot;</td><td>&quot;Session1725255980504&quot;</td><td>&quot;baseline&quot;</td><td>&quot;09-01-2024 22:46:20&quot;</td><td>&quot;09-02-2024 08:18:37&quot;</td><td>null</td><td>&quot;https://www.dropbox.com/home/R…</td><td>&quot;=HYPERLINK(&quot;/media/dropbox_hdd…</td><td>&quot;&#x27;/media/dropbox_hdd/Starr Lab …</td><td>&quot;RCS03L&quot;</td><td>&quot;/media/longterm_hdd/Clay/Sleep…</td><td>&quot;/media/longterm_hdd/Clay/Sleep…</td><td>&quot;/media/longterm_hdd/Clay/Sleep…</td><td>null</td></tr><tr><td>1</td><td>&quot;RCS03&quot;</td><td>&quot;Left&quot;</td><td>&quot;Session1725598798225&quot;</td><td>&quot;baseline&quot;</td><td>&quot;09-05-2024 21:59:58&quot;</td><td>&quot;09-06-2024 07:29:31&quot;</td><td>null</td><td>&quot;https://www.dropbox.com/home/R…</td><td>&quot;=HYPERLINK(&quot;/media/dropbox_hdd…</td><td>&quot;&#x27;/media/dropbox_hdd/Starr Lab …</td><td>&quot;RCS03L&quot;</td><td>&quot;/media/longterm_hdd/Clay/Sleep…</td><td>&quot;/media/longterm_hdd/Clay/Sleep…</td><td>&quot;/media/longterm_hdd/Clay/Sleep…</td><td>&quot;/media/longterm_hdd/Clay/Sleep…</td></tr><tr><td>2</td><td>&quot;RCS03&quot;</td><td>&quot;Left&quot;</td><td>&quot;Session1725773287653&quot;</td><td>&quot;baseline&quot;</td><td>&quot;09-07-2024 22:28:07&quot;</td><td>&quot;09-08-2024 04:27:22&quot;</td><td>null</td><td>&quot;https://www.dropbox.com/home/R…</td><td>&quot;=HYPERLINK(&quot;/media/dropbox_hdd…</td><td>&quot;&#x27;/media/dropbox_hdd/Starr Lab …</td><td>&quot;RCS03L&quot;</td><td>&quot;/media/longterm_hdd/Clay/Sleep…</td><td>&quot;/media/longterm_hdd/Clay/Sleep…</td><td>&quot;/media/longterm_hdd/Clay/Sleep…</td><td>&quot;/media/longterm_hdd/Clay/Sleep…</td></tr><tr><td>3</td><td>&quot;RCS03&quot;</td><td>&quot;Left&quot;</td><td>&quot;Session1725168553698&quot;</td><td>&quot;baseline&quot;</td><td>&quot;08-31-2024 22:29:13&quot;</td><td>&quot;09-01-2024 09:08:22&quot;</td><td>null</td><td>&quot;https://www.dropbox.com/home/R…</td><td>&quot;=HYPERLINK(&quot;/media/dropbox_hdd…</td><td>&quot;&#x27;/media/dropbox_hdd/Starr Lab …</td><td>&quot;RCS03L&quot;</td><td>&quot;/media/longterm_hdd/Clay/Sleep…</td><td>&quot;/media/longterm_hdd/Clay/Sleep…</td><td>&quot;/media/longterm_hdd/Clay/Sleep…</td><td>null</td></tr><tr><td>4</td><td>&quot;RCS03&quot;</td><td>&quot;Left&quot;</td><td>&quot;Session1725426262519&quot;</td><td>&quot;baseline&quot;</td><td>&quot;09-03-2024 22:04:22&quot;</td><td>&quot;09-04-2024 08:23:11&quot;</td><td>null</td><td>&quot;https://www.dropbox.com/home/R…</td><td>&quot;=HYPERLINK(&quot;/media/dropbox_hdd…</td><td>&quot;&#x27;/media/dropbox_hdd/Starr Lab …</td><td>&quot;RCS03L&quot;</td><td>&quot;/media/longterm_hdd/Clay/Sleep…</td><td>&quot;/media/longterm_hdd/Clay/Sleep…</td><td>&quot;/media/longterm_hdd/Clay/Sleep…</td><td>&quot;/media/longterm_hdd/Clay/Sleep…</td></tr><tr><td>&hellip;</td><td>&hellip;</td><td>&hellip;</td><td>&hellip;</td><td>&hellip;</td><td>&hellip;</td><td>&hellip;</td><td>&hellip;</td><td>&hellip;</td><td>&hellip;</td><td>&hellip;</td><td>&hellip;</td><td>&hellip;</td><td>&hellip;</td><td>&hellip;</td><td>&hellip;</td></tr><tr><td>199</td><td>&quot;RCS14&quot;</td><td>&quot;Left&quot;</td><td>&quot;Session1731744533392&quot;</td><td>&quot;baseline&quot;</td><td>&quot;11-16-2024 00:08:53&quot;</td><td>&quot;11-16-2024 07:31:36&quot;</td><td>null</td><td>&quot;https://www.dropbox.com/home/R…</td><td>&quot;=HYPERLINK(&quot;/media/dropbox_hdd…</td><td>&quot;&#x27;/media/dropbox_hdd/Starr Lab …</td><td>&quot;RCS14L&quot;</td><td>&quot;/media/longterm_hdd/Clay/Sleep…</td><td>&quot;/media/longterm_hdd/Clay/Sleep…</td><td>&quot;/media/longterm_hdd/Clay/Sleep…</td><td>&quot;/media/longterm_hdd/Clay/Sleep…</td></tr><tr><td>206</td><td>&quot;RCS14&quot;</td><td>&quot;Left&quot;</td><td>&quot;Session1733297410746&quot;</td><td>&quot;baseline&quot;</td><td>&quot;12-03-2024 23:30:10&quot;</td><td>&quot;12-04-2024 06:53:43&quot;</td><td>null</td><td>&quot;https://www.dropbox.com/home/R…</td><td>&quot;=HYPERLINK(&quot;/media/dropbox_hdd…</td><td>&quot;&#x27;/media/dropbox_hdd/Starr Lab …</td><td>&quot;RCS14L&quot;</td><td>&quot;/media/longterm_hdd/Clay/Sleep…</td><td>&quot;/media/longterm_hdd/Clay/Sleep…</td><td>&quot;/media/longterm_hdd/Clay/Sleep…</td><td>&quot;/media/longterm_hdd/Clay/Sleep…</td></tr><tr><td>207</td><td>&quot;RCS14&quot;</td><td>&quot;Left&quot;</td><td>&quot;Session1733384563902&quot;</td><td>&quot;baseline&quot;</td><td>&quot;12-04-2024 23:42:43&quot;</td><td>&quot;12-05-2024 07:00:38&quot;</td><td>null</td><td>&quot;https://www.dropbox.com/home/R…</td><td>&quot;=HYPERLINK(&quot;/media/dropbox_hdd…</td><td>&quot;&#x27;/media/dropbox_hdd/Starr Lab …</td><td>&quot;RCS14L&quot;</td><td>&quot;/media/longterm_hdd/Clay/Sleep…</td><td>&quot;/media/longterm_hdd/Clay/Sleep…</td><td>&quot;/media/longterm_hdd/Clay/Sleep…</td><td>&quot;/media/longterm_hdd/Clay/Sleep…</td></tr><tr><td>208</td><td>&quot;RCS14&quot;</td><td>&quot;Left&quot;</td><td>&quot;Session1733558984198&quot;</td><td>&quot;baseline&quot;</td><td>&quot;12-07-2024 00:09:44&quot;</td><td>&quot;12-07-2024 07:10:48&quot;</td><td>null</td><td>&quot;https://www.dropbox.com/home/R…</td><td>&quot;=HYPERLINK(&quot;/media/dropbox_hdd…</td><td>&quot;&#x27;/media/dropbox_hdd/Starr Lab …</td><td>&quot;RCS14L&quot;</td><td>&quot;/media/longterm_hdd/Clay/Sleep…</td><td>&quot;/media/longterm_hdd/Clay/Sleep…</td><td>&quot;/media/longterm_hdd/Clay/Sleep…</td><td>&quot;/media/longterm_hdd/Clay/Sleep…</td></tr><tr><td>210</td><td>&quot;RCS14&quot;</td><td>&quot;Left&quot;</td><td>&quot;Session1733985687200&quot;</td><td>&quot;baseline&quot;</td><td>&quot;12-11-2024 22:41:27&quot;</td><td>&quot;12-12-2024 05:53:21&quot;</td><td>null</td><td>&quot;https://www.dropbox.com/home/R…</td><td>&quot;=HYPERLINK(&quot;/media/dropbox_hdd…</td><td>&quot;&#x27;/media/dropbox_hdd/Starr Lab …</td><td>&quot;RCS14L&quot;</td><td>&quot;/media/longterm_hdd/Clay/Sleep…</td><td>&quot;/media/longterm_hdd/Clay/Sleep…</td><td>&quot;/media/longterm_hdd/Clay/Sleep…</td><td>null</td></tr></tbody></table></div>"
      ],
      "text/plain": [
       "shape: (149, 16)\n",
       "┌─────┬───────┬──────┬──────────────┬───┬──────────────┬──────────────┬──────────────┬─────────────┐\n",
       "│     ┆ RCS#  ┆ Side ┆ Session#     ┆ … ┆ output_dir   ┆ parquet_path ┆ csv_path     ┆ session_rep │\n",
       "│ --- ┆ ---   ┆ ---  ┆ ---          ┆   ┆ ---          ┆ ---          ┆ ---          ┆ ort_path    │\n",
       "│ i64 ┆ str   ┆ str  ┆ str          ┆   ┆ str          ┆ str          ┆ str          ┆ ---         │\n",
       "│     ┆       ┆      ┆              ┆   ┆              ┆              ┆              ┆ str         │\n",
       "╞═════╪═══════╪══════╪══════════════╪═══╪══════════════╪══════════════╪══════════════╪═════════════╡\n",
       "│ 0   ┆ RCS03 ┆ Left ┆ Session17252 ┆ … ┆ /media/longt ┆ /media/longt ┆ /media/longt ┆ null        │\n",
       "│     ┆       ┆      ┆ 55980504     ┆   ┆ erm_hdd/Clay ┆ erm_hdd/Clay ┆ erm_hdd/Clay ┆             │\n",
       "│     ┆       ┆      ┆              ┆   ┆ /Sleep…      ┆ /Sleep…      ┆ /Sleep…      ┆             │\n",
       "│ 1   ┆ RCS03 ┆ Left ┆ Session17255 ┆ … ┆ /media/longt ┆ /media/longt ┆ /media/longt ┆ /media/long │\n",
       "│     ┆       ┆      ┆ 98798225     ┆   ┆ erm_hdd/Clay ┆ erm_hdd/Clay ┆ erm_hdd/Clay ┆ term_hdd/Cl │\n",
       "│     ┆       ┆      ┆              ┆   ┆ /Sleep…      ┆ /Sleep…      ┆ /Sleep…      ┆ ay/Sleep…   │\n",
       "│ 2   ┆ RCS03 ┆ Left ┆ Session17257 ┆ … ┆ /media/longt ┆ /media/longt ┆ /media/longt ┆ /media/long │\n",
       "│     ┆       ┆      ┆ 73287653     ┆   ┆ erm_hdd/Clay ┆ erm_hdd/Clay ┆ erm_hdd/Clay ┆ term_hdd/Cl │\n",
       "│     ┆       ┆      ┆              ┆   ┆ /Sleep…      ┆ /Sleep…      ┆ /Sleep…      ┆ ay/Sleep…   │\n",
       "│ 3   ┆ RCS03 ┆ Left ┆ Session17251 ┆ … ┆ /media/longt ┆ /media/longt ┆ /media/longt ┆ null        │\n",
       "│     ┆       ┆      ┆ 68553698     ┆   ┆ erm_hdd/Clay ┆ erm_hdd/Clay ┆ erm_hdd/Clay ┆             │\n",
       "│     ┆       ┆      ┆              ┆   ┆ /Sleep…      ┆ /Sleep…      ┆ /Sleep…      ┆             │\n",
       "│ 4   ┆ RCS03 ┆ Left ┆ Session17254 ┆ … ┆ /media/longt ┆ /media/longt ┆ /media/longt ┆ /media/long │\n",
       "│     ┆       ┆      ┆ 26262519     ┆   ┆ erm_hdd/Clay ┆ erm_hdd/Clay ┆ erm_hdd/Clay ┆ term_hdd/Cl │\n",
       "│     ┆       ┆      ┆              ┆   ┆ /Sleep…      ┆ /Sleep…      ┆ /Sleep…      ┆ ay/Sleep…   │\n",
       "│ …   ┆ …     ┆ …    ┆ …            ┆ … ┆ …            ┆ …            ┆ …            ┆ …           │\n",
       "│ 199 ┆ RCS14 ┆ Left ┆ Session17317 ┆ … ┆ /media/longt ┆ /media/longt ┆ /media/longt ┆ /media/long │\n",
       "│     ┆       ┆      ┆ 44533392     ┆   ┆ erm_hdd/Clay ┆ erm_hdd/Clay ┆ erm_hdd/Clay ┆ term_hdd/Cl │\n",
       "│     ┆       ┆      ┆              ┆   ┆ /Sleep…      ┆ /Sleep…      ┆ /Sleep…      ┆ ay/Sleep…   │\n",
       "│ 206 ┆ RCS14 ┆ Left ┆ Session17332 ┆ … ┆ /media/longt ┆ /media/longt ┆ /media/longt ┆ /media/long │\n",
       "│     ┆       ┆      ┆ 97410746     ┆   ┆ erm_hdd/Clay ┆ erm_hdd/Clay ┆ erm_hdd/Clay ┆ term_hdd/Cl │\n",
       "│     ┆       ┆      ┆              ┆   ┆ /Sleep…      ┆ /Sleep…      ┆ /Sleep…      ┆ ay/Sleep…   │\n",
       "│ 207 ┆ RCS14 ┆ Left ┆ Session17333 ┆ … ┆ /media/longt ┆ /media/longt ┆ /media/longt ┆ /media/long │\n",
       "│     ┆       ┆      ┆ 84563902     ┆   ┆ erm_hdd/Clay ┆ erm_hdd/Clay ┆ erm_hdd/Clay ┆ term_hdd/Cl │\n",
       "│     ┆       ┆      ┆              ┆   ┆ /Sleep…      ┆ /Sleep…      ┆ /Sleep…      ┆ ay/Sleep…   │\n",
       "│ 208 ┆ RCS14 ┆ Left ┆ Session17335 ┆ … ┆ /media/longt ┆ /media/longt ┆ /media/longt ┆ /media/long │\n",
       "│     ┆       ┆      ┆ 58984198     ┆   ┆ erm_hdd/Clay ┆ erm_hdd/Clay ┆ erm_hdd/Clay ┆ term_hdd/Cl │\n",
       "│     ┆       ┆      ┆              ┆   ┆ /Sleep…      ┆ /Sleep…      ┆ /Sleep…      ┆ ay/Sleep…   │\n",
       "│ 210 ┆ RCS14 ┆ Left ┆ Session17339 ┆ … ┆ /media/longt ┆ /media/longt ┆ /media/longt ┆ null        │\n",
       "│     ┆       ┆      ┆ 85687200     ┆   ┆ erm_hdd/Clay ┆ erm_hdd/Clay ┆ erm_hdd/Clay ┆             │\n",
       "│     ┆       ┆      ┆              ┆   ┆ /Sleep…      ┆ /Sleep…      ┆ /Sleep…      ┆             │\n",
       "└─────┴───────┴──────┴──────────────┴───┴──────────────┴──────────────┴──────────────┴─────────────┘"
      ]
     },
     "execution_count": 22,
     "metadata": {},
     "output_type": "execute_result"
    }
   ],
   "source": [
    "report_df_with_paths"
   ]
  },
  {
   "cell_type": "code",
   "execution_count": 23,
   "metadata": {},
   "outputs": [],
   "source": [
    "report_df_with_paths.write_csv(\"/media/longterm_hdd/Clay/Sleep_aDBS/Sleep_aDBS_reported_sessions_with_paths.csv\")"
   ]
  },
  {
   "cell_type": "code",
   "execution_count": 26,
   "metadata": {},
   "outputs": [],
   "source": [
    "# Check new csv is the same as the old one\n",
    "assert (\n",
    "    pl.read_csv(report_csv_path).with_columns(\n",
    "        pl.col(\"output_dir\").str.replace(\"/Sleep_aDBS/\", \"/Sleep_aDBS/data/\"),\n",
    "        pl.col(\"parquet_path\").str.replace(\"/Sleep_aDBS/\", \"/Sleep_aDBS/data/\"),\n",
    "        pl.col(\"csv_path\").str.replace(\"/Sleep_aDBS/\", \"/Sleep_aDBS/data/\")\n",
    "    ).equals(    \n",
    "        pl.read_csv(\"/media/longterm_hdd/Clay/Sleep_aDBS/Sleep_aDBS_reported_sessions_with_paths.csv\").select(\n",
    "            pl.all().exclude(\"session_report_path\")\n",
    "        )\n",
    "    )\n",
    ")\n"
   ]
  },
  {
   "cell_type": "code",
   "execution_count": 27,
   "metadata": {},
   "outputs": [],
   "source": [
    "report_df_with_paths = report_df_with_paths.rename({\"csv_path\": \"settings_path\"})\n",
    "report_df_with_paths.write_csv(\"/media/longterm_hdd/Clay/Sleep_aDBS/Sleep_aDBS_reported_sessions_with_paths.csv\")\n"
   ]
  },
  {
   "cell_type": "code",
   "execution_count": 28,
   "metadata": {},
   "outputs": [
    {
     "data": {
      "text/html": [
       "<div><style>\n",
       ".dataframe > thead > tr,\n",
       ".dataframe > tbody > tr {\n",
       "  text-align: right;\n",
       "  white-space: pre-wrap;\n",
       "}\n",
       "</style>\n",
       "<small>shape: (5, 16)</small><table border=\"1\" class=\"dataframe\"><thead><tr><th></th><th>RCS#</th><th>Side</th><th>Session#</th><th>SessionType(s)</th><th>TimeStarted</th><th>TimeEnded</th><th>Notes</th><th>Dropbox_Link</th><th>Data_Server_Hyperlink</th><th>Data_Server_FilePath</th><th>Device</th><th>output_dir</th><th>parquet_path</th><th>settings_path</th><th>session_report_path</th></tr><tr><td>i64</td><td>str</td><td>str</td><td>str</td><td>str</td><td>str</td><td>str</td><td>str</td><td>str</td><td>str</td><td>str</td><td>str</td><td>str</td><td>str</td><td>str</td><td>str</td></tr></thead><tbody><tr><td>0</td><td>&quot;RCS03&quot;</td><td>&quot;Left&quot;</td><td>&quot;Session1725255980504&quot;</td><td>&quot;baseline&quot;</td><td>&quot;09-01-2024 22:46:20&quot;</td><td>&quot;09-02-2024 08:18:37&quot;</td><td>null</td><td>&quot;https://www.dropbox.com/home/R…</td><td>&quot;=HYPERLINK(&quot;/media/dropbox_hdd…</td><td>&quot;&#x27;/media/dropbox_hdd/Starr Lab …</td><td>&quot;RCS03L&quot;</td><td>&quot;/media/longterm_hdd/Clay/Sleep…</td><td>&quot;/media/longterm_hdd/Clay/Sleep…</td><td>&quot;/media/longterm_hdd/Clay/Sleep…</td><td>null</td></tr><tr><td>1</td><td>&quot;RCS03&quot;</td><td>&quot;Left&quot;</td><td>&quot;Session1725598798225&quot;</td><td>&quot;baseline&quot;</td><td>&quot;09-05-2024 21:59:58&quot;</td><td>&quot;09-06-2024 07:29:31&quot;</td><td>null</td><td>&quot;https://www.dropbox.com/home/R…</td><td>&quot;=HYPERLINK(&quot;/media/dropbox_hdd…</td><td>&quot;&#x27;/media/dropbox_hdd/Starr Lab …</td><td>&quot;RCS03L&quot;</td><td>&quot;/media/longterm_hdd/Clay/Sleep…</td><td>&quot;/media/longterm_hdd/Clay/Sleep…</td><td>&quot;/media/longterm_hdd/Clay/Sleep…</td><td>&quot;/media/longterm_hdd/Clay/Sleep…</td></tr><tr><td>2</td><td>&quot;RCS03&quot;</td><td>&quot;Left&quot;</td><td>&quot;Session1725773287653&quot;</td><td>&quot;baseline&quot;</td><td>&quot;09-07-2024 22:28:07&quot;</td><td>&quot;09-08-2024 04:27:22&quot;</td><td>null</td><td>&quot;https://www.dropbox.com/home/R…</td><td>&quot;=HYPERLINK(&quot;/media/dropbox_hdd…</td><td>&quot;&#x27;/media/dropbox_hdd/Starr Lab …</td><td>&quot;RCS03L&quot;</td><td>&quot;/media/longterm_hdd/Clay/Sleep…</td><td>&quot;/media/longterm_hdd/Clay/Sleep…</td><td>&quot;/media/longterm_hdd/Clay/Sleep…</td><td>&quot;/media/longterm_hdd/Clay/Sleep…</td></tr><tr><td>3</td><td>&quot;RCS03&quot;</td><td>&quot;Left&quot;</td><td>&quot;Session1725168553698&quot;</td><td>&quot;baseline&quot;</td><td>&quot;08-31-2024 22:29:13&quot;</td><td>&quot;09-01-2024 09:08:22&quot;</td><td>null</td><td>&quot;https://www.dropbox.com/home/R…</td><td>&quot;=HYPERLINK(&quot;/media/dropbox_hdd…</td><td>&quot;&#x27;/media/dropbox_hdd/Starr Lab …</td><td>&quot;RCS03L&quot;</td><td>&quot;/media/longterm_hdd/Clay/Sleep…</td><td>&quot;/media/longterm_hdd/Clay/Sleep…</td><td>&quot;/media/longterm_hdd/Clay/Sleep…</td><td>null</td></tr><tr><td>4</td><td>&quot;RCS03&quot;</td><td>&quot;Left&quot;</td><td>&quot;Session1725426262519&quot;</td><td>&quot;baseline&quot;</td><td>&quot;09-03-2024 22:04:22&quot;</td><td>&quot;09-04-2024 08:23:11&quot;</td><td>null</td><td>&quot;https://www.dropbox.com/home/R…</td><td>&quot;=HYPERLINK(&quot;/media/dropbox_hdd…</td><td>&quot;&#x27;/media/dropbox_hdd/Starr Lab …</td><td>&quot;RCS03L&quot;</td><td>&quot;/media/longterm_hdd/Clay/Sleep…</td><td>&quot;/media/longterm_hdd/Clay/Sleep…</td><td>&quot;/media/longterm_hdd/Clay/Sleep…</td><td>&quot;/media/longterm_hdd/Clay/Sleep…</td></tr></tbody></table></div>"
      ],
      "text/plain": [
       "shape: (5, 16)\n",
       "┌─────┬───────┬──────┬──────────────┬───┬──────────────┬──────────────┬──────────────┬─────────────┐\n",
       "│     ┆ RCS#  ┆ Side ┆ Session#     ┆ … ┆ output_dir   ┆ parquet_path ┆ settings_pat ┆ session_rep │\n",
       "│ --- ┆ ---   ┆ ---  ┆ ---          ┆   ┆ ---          ┆ ---          ┆ h            ┆ ort_path    │\n",
       "│ i64 ┆ str   ┆ str  ┆ str          ┆   ┆ str          ┆ str          ┆ ---          ┆ ---         │\n",
       "│     ┆       ┆      ┆              ┆   ┆              ┆              ┆ str          ┆ str         │\n",
       "╞═════╪═══════╪══════╪══════════════╪═══╪══════════════╪══════════════╪══════════════╪═════════════╡\n",
       "│ 0   ┆ RCS03 ┆ Left ┆ Session17252 ┆ … ┆ /media/longt ┆ /media/longt ┆ /media/longt ┆ null        │\n",
       "│     ┆       ┆      ┆ 55980504     ┆   ┆ erm_hdd/Clay ┆ erm_hdd/Clay ┆ erm_hdd/Clay ┆             │\n",
       "│     ┆       ┆      ┆              ┆   ┆ /Sleep…      ┆ /Sleep…      ┆ /Sleep…      ┆             │\n",
       "│ 1   ┆ RCS03 ┆ Left ┆ Session17255 ┆ … ┆ /media/longt ┆ /media/longt ┆ /media/longt ┆ /media/long │\n",
       "│     ┆       ┆      ┆ 98798225     ┆   ┆ erm_hdd/Clay ┆ erm_hdd/Clay ┆ erm_hdd/Clay ┆ term_hdd/Cl │\n",
       "│     ┆       ┆      ┆              ┆   ┆ /Sleep…      ┆ /Sleep…      ┆ /Sleep…      ┆ ay/Sleep…   │\n",
       "│ 2   ┆ RCS03 ┆ Left ┆ Session17257 ┆ … ┆ /media/longt ┆ /media/longt ┆ /media/longt ┆ /media/long │\n",
       "│     ┆       ┆      ┆ 73287653     ┆   ┆ erm_hdd/Clay ┆ erm_hdd/Clay ┆ erm_hdd/Clay ┆ term_hdd/Cl │\n",
       "│     ┆       ┆      ┆              ┆   ┆ /Sleep…      ┆ /Sleep…      ┆ /Sleep…      ┆ ay/Sleep…   │\n",
       "│ 3   ┆ RCS03 ┆ Left ┆ Session17251 ┆ … ┆ /media/longt ┆ /media/longt ┆ /media/longt ┆ null        │\n",
       "│     ┆       ┆      ┆ 68553698     ┆   ┆ erm_hdd/Clay ┆ erm_hdd/Clay ┆ erm_hdd/Clay ┆             │\n",
       "│     ┆       ┆      ┆              ┆   ┆ /Sleep…      ┆ /Sleep…      ┆ /Sleep…      ┆             │\n",
       "│ 4   ┆ RCS03 ┆ Left ┆ Session17254 ┆ … ┆ /media/longt ┆ /media/longt ┆ /media/longt ┆ /media/long │\n",
       "│     ┆       ┆      ┆ 26262519     ┆   ┆ erm_hdd/Clay ┆ erm_hdd/Clay ┆ erm_hdd/Clay ┆ term_hdd/Cl │\n",
       "│     ┆       ┆      ┆              ┆   ┆ /Sleep…      ┆ /Sleep…      ┆ /Sleep…      ┆ ay/Sleep…   │\n",
       "└─────┴───────┴──────┴──────────────┴───┴──────────────┴──────────────┴──────────────┴─────────────┘"
      ]
     },
     "execution_count": 28,
     "metadata": {},
     "output_type": "execute_result"
    }
   ],
   "source": [
    "pl.read_csv(\"/media/longterm_hdd/Clay/Sleep_aDBS/Sleep_aDBS_reported_sessions_with_paths.csv\").head()"
   ]
  }
 ],
 "metadata": {
  "kernelspec": {
   "display_name": "sleep_infra",
   "language": "python",
   "name": "python3"
  },
  "language_info": {
   "codemirror_mode": {
    "name": "ipython",
    "version": 3
   },
   "file_extension": ".py",
   "mimetype": "text/x-python",
   "name": "python",
   "nbconvert_exporter": "python",
   "pygments_lexer": "ipython3",
   "version": "3.12.4"
  }
 },
 "nbformat": 4,
 "nbformat_minor": 2
}
